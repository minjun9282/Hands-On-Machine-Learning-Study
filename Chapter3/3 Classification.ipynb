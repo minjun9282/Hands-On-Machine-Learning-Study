{
 "cells": [
  {
   "cell_type": "markdown",
   "metadata": {},
   "source": [
    "# 3.1 MNIST"
   ]
  },
  {
   "cell_type": "code",
   "execution_count": 12,
   "metadata": {},
   "outputs": [],
   "source": [
    "import numpy as np\n",
    "\n",
    "from sklearn.datasets import fetch_openml\n",
    "\n",
    "import matplotlib as mpl\n",
    "\n",
    "import matplotlib.pyplot as plt\n",
    "\n",
    "from sklearn.linear_model import SGDClassifier #사이킷런의 확률적 경사 하강법 분류기.(선형분류) 한번에 하나씩 훈련 샘플을 독립적으로 처리."
   ]
  },
  {
   "cell_type": "code",
   "execution_count": 2,
   "metadata": {},
   "outputs": [
    {
     "data": {
      "text/plain": [
       "dict_keys(['data', 'target', 'frame', 'categories', 'feature_names', 'target_names', 'DESCR', 'details', 'url'])"
      ]
     },
     "execution_count": 2,
     "metadata": {},
     "output_type": "execute_result"
    }
   ],
   "source": [
    "mnist = fetch_openml('mnist_784', version=1)\n",
    "mnist.keys()"
   ]
  },
  {
   "cell_type": "markdown",
   "metadata": {},
   "source": [
    "사이킷런에서 불러들인 데이터셋은 일반적으로 비슷한 딕셔너리 구조를 가짐. 아래의 3가지 key는 보통 포함함.<br>\n",
    "DESCR key: 데이터 셋을 설명<br>\n",
    "data key: 샘플이 하나의 행, 특성이 하나의 열로 구성된 배열을 가짐<br>\n",
    "target key: 레이블 배열을 담음.\n"
   ]
  },
  {
   "cell_type": "code",
   "execution_count": 3,
   "metadata": {},
   "outputs": [
    {
     "data": {
      "text/plain": [
       "(70000, 784)"
      ]
     },
     "execution_count": 3,
     "metadata": {},
     "output_type": "execute_result"
    }
   ],
   "source": [
    "X, y = mnist[\"data\"], mnist[\"target\"]\n",
    "X.shape\n",
    "#이미지가 70000개 있고 각 이미지별로 784개의 특성(28x28픽셀)이 있음."
   ]
  },
  {
   "cell_type": "code",
   "execution_count": 4,
   "metadata": {},
   "outputs": [
    {
     "data": {
      "text/plain": [
       "(70000,)"
      ]
     },
     "execution_count": 4,
     "metadata": {},
     "output_type": "execute_result"
    }
   ],
   "source": [
    "y.shape #70000개의 이미지에 해당하는 레이블이 각각 한개, 총 70000여개 있음. (아마 0~9로 이뤄짐)"
   ]
  },
  {
   "cell_type": "code",
   "execution_count": 5,
   "metadata": {},
   "outputs": [
    {
     "data": {
      "image/png": "[encoded data removed]",
      "text/plain": [
       "<Figure size 432x288 with 1 Axes>"
      ]
     },
     "metadata": {
      "needs_background": "light"
     },
     "output_type": "display_data"
    }
   ],
   "source": [
    "some_digit = X.values[0] #데이터셋 중 하나의 샘플을 확인해보기 위해서 지정\n",
    "                         #X[0]에서 오류가 발생하는 이유는 scikitlearn의 버전에 따라 fetch_openml의 as_frame 인자의 default값이 다르기 때문.\n",
    "                            #참고: https://github.com/ageron/handson-ml2/issues/352\n",
    "some_digit_image = some_digit.reshape(28, 28) #reshape는 배열의 차원을 변경할때 사용함\n",
    "\n",
    "plt.imshow(some_digit_image, cmap='binary') #imshow는 python에서 matplotlib을 활용해 이미지를 표시할 때 사용함. \n",
    "                                            #배열을 준 후 컬러맵으로 binary 옵션을 지정한 것.\n",
    "                                            #출처: https://pyvisuall.tistory.com/78\n",
    "plt.axis(\"off\") #축은 표시 안함.\n",
    "plt.show()"
   ]
  },
  {
   "cell_type": "code",
   "execution_count": 6,
   "metadata": {},
   "outputs": [
    {
     "data": {
      "text/plain": [
       "'5'"
      ]
     },
     "execution_count": 6,
     "metadata": {},
     "output_type": "execute_result"
    }
   ],
   "source": [
    "y[0] #y.values[0]을 사용해도 됨."
   ]
  },
  {
   "cell_type": "code",
   "execution_count": 8,
   "metadata": {},
   "outputs": [],
   "source": [
    "y = y.astype(np.uint8) #레이블 값이 문자열인데 머신러닝 알고리즘에서는 주로 정수형을 기대하므로 y의 값들을 모두 정수형으로 변환함.\n",
    "                       #numpy의 데이터타입은 https://kongdols-room.tistory.com/53 참고"
   ]
  },
  {
   "cell_type": "markdown",
   "metadata": {},
   "source": [
    "MNIST 데이터셋은 이미 training set와 test set을 60000, 10000으로 나눠놨음. 또한 훈련세트는 이미 잘 섞여 있음.(데이터 셋이 잘 섞여 있다.)<br>"
   ]
  },
  {
   "cell_type": "code",
   "execution_count": 9,
   "metadata": {},
   "outputs": [],
   "source": [
    "X_train, X_test, y_train, y_test = X[:60000], X[60000:], y[:60000], y[60000:]"
   ]
  },
  {
   "cell_type": "markdown",
   "metadata": {},
   "source": [
    "# 3.2 이진 분류기 훈련"
   ]
  },
  {
   "cell_type": "markdown",
   "metadata": {},
   "source": [
    "데이터를 2가지 경우의 클래스로 분류하는 것을 이진 분류(binary classification)이라고 함."
   ]
  },
  {
   "cell_type": "code",
   "execution_count": 10,
   "metadata": {},
   "outputs": [],
   "source": [
    "y_train_5 = (y_train == 5) #이 경우에 5는 True, 나머지 숫자는 모두 False가 됨.\n",
    "y_test_5 = (y_test == 5)"
   ]
  },
  {
   "cell_type": "code",
   "execution_count": 13,
   "metadata": {},
   "outputs": [
    {
     "data": {
      "text/plain": [
       "SGDClassifier(random_state=42)"
      ]
     },
     "execution_count": 13,
     "metadata": {},
     "output_type": "execute_result"
    }
   ],
   "source": [
    "sgd_clf = SGDClassifier(random_state=42)\n",
    "sgd_clf.fit(X_train, y_train_5)"
   ]
  },
  {
   "cell_type": "markdown",
   "metadata": {},
   "source": [
    "확률적 경사하강법 참고: https://gooopy.tistory.com/69"
   ]
  },
  {
   "cell_type": "code",
   "execution_count": 14,
   "metadata": {},
   "outputs": [
    {
     "data": {
      "text/plain": [
       "array([ True])"
      ]
     },
     "execution_count": 14,
     "metadata": {},
     "output_type": "execute_result"
    }
   ],
   "source": [
    "sgd_clf.predict([some_digit]) #맨 처음 지정한 이미지를 5라고 판단함. 하지만 이 한번의 경우로 모델의 성능을 평가할 수 없음."
   ]
  },
  {
   "cell_type": "markdown",
   "metadata": {},
   "source": [
    "# 3.3 성능 측정"
   ]
  },
  {
   "cell_type": "markdown",
   "metadata": {},
   "source": [
    "classifier 평가는 회귀 모델 평가보다 어려움.<br>\n",
    "또한 모델 평가에 사용할 수 있는 성능 지표로 여러개가 존재함.<br>\n",
    "1. 교차 검증을 활용한 정확도 측정\n",
    "2. 오차 행렬을 활용한 정확도 측정\n",
    "3. 정밀도와 재현율 활용\n",
    "4. ROC 곡선(수신기 조작 특성 곡선) 활용"
   ]
  },
  {
   "cell_type": "code",
   "execution_count": null,
   "metadata": {},
   "outputs": [],
   "source": []
  }
 ],
 "metadata": {
  "kernelspec": {
   "display_name": "Python 3",
   "language": "python",
   "name": "python3"
  },
  "language_info": {
   "codemirror_mode": {
    "name": "ipython",
    "version": 3
   },
   "file_extension": ".py",
   "mimetype": "text/x-python",
   "name": "python",
   "nbconvert_exporter": "python",
   "pygments_lexer": "ipython3",
   "version": "3.7.6"
  }
 },
 "nbformat": 4,
 "nbformat_minor": 4
}
